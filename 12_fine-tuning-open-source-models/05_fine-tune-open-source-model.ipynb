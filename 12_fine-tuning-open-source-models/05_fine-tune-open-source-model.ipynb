{
 "cells": [
  {
   "cell_type": "markdown",
   "metadata": {},
   "source": [
    "# Fine Tuning Open Source Model\n",
    "\n",
    "Note: fine tuning can take many hours to complete and free GPU avaalable with Google Colab will not be enough, therefore we will use smaller model and will also try with smaller dataset \n",
    "\n",
    "\n",
    "https://colab.research.google.com/drive/1vyrR-Gr5Z3rTiU_6X6Wt0FTq8PDeQHl8?usp=sharing\n"
   ]
  }
 ],
 "metadata": {
  "language_info": {
   "name": "python"
  }
 },
 "nbformat": 4,
 "nbformat_minor": 2
}

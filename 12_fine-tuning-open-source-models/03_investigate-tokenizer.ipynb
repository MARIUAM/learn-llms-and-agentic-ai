{
 "cells": [
  {
   "cell_type": "markdown",
   "metadata": {},
   "source": [
    "# Investigate Tokenizer\n",
    "\n",
    "\n",
    "https://colab.research.google.com/drive/1LJ1OtEP7dKMtF_vkWNSMUq_3FGpXNrrG?usp=sharing\n"
   ]
  }
 ],
 "metadata": {
  "language_info": {
   "name": "python"
  }
 },
 "nbformat": 4,
 "nbformat_minor": 2
}

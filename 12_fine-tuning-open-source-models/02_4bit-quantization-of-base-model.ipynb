{
 "cells": [
  {
   "cell_type": "markdown",
   "metadata": {},
   "source": [
    "# Quantization of Base Model\n",
    "\n",
    "\n",
    "https://colab.research.google.com/drive/1N8NJc-COqmCTuTIKbkzrFAWUZEMvsf9Z\n"
   ]
  }
 ],
 "metadata": {
  "language_info": {
   "name": "python"
  }
 },
 "nbformat": 4,
 "nbformat_minor": 2
}

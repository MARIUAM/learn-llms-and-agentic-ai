{
 "cells": [
  {
   "cell_type": "markdown",
   "metadata": {},
   "source": [
    "# Using our fine tuned model to predict price\n",
    "\n",
    "https://colab.research.google.com/drive/1nz5BUO0JSHRecQY9rIphkbw4iIpGRHvp?usp=sharing"
   ]
  }
 ],
 "metadata": {
  "language_info": {
   "name": "python"
  }
 },
 "nbformat": 4,
 "nbformat_minor": 2
}

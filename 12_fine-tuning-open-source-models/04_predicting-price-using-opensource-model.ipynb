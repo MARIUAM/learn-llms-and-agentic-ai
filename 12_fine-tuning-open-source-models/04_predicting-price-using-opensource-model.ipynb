{
 "cells": [
  {
   "cell_type": "markdown",
   "metadata": {},
   "source": [
    "# Predicting Price Using Opensource Model\n",
    "\n",
    "\n",
    "https://colab.research.google.com/drive/1H-w7haHJZYmiAQvJQ-_5705HYgY7b9I8?usp=sharing\n"
   ]
  }
 ],
 "metadata": {
  "language_info": {
   "name": "python"
  }
 },
 "nbformat": 4,
 "nbformat_minor": 2
}

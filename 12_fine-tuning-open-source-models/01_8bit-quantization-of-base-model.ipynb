{
 "cells": [
  {
   "cell_type": "markdown",
   "metadata": {},
   "source": [
    "# Quantization of Base Model\n",
    "\n",
    "\n",
    "https://colab.research.google.com/drive/1uw_9tMdz1pFHmCMY4_Sc8I4yS3Ft1MCm\n",
    "\n"
   ]
  }
 ],
 "metadata": {
  "language_info": {
   "name": "python"
  }
 },
 "nbformat": 4,
 "nbformat_minor": 2
}

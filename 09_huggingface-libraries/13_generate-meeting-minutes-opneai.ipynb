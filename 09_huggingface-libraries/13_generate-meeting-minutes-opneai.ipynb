{
 "cells": [
  {
   "cell_type": "markdown",
   "id": "101814ca-9694-457f-91e9-423f4d933a2f",
   "metadata": {},
   "source": [
    "Generate Meeting minutes with OpenAI\n",
    "\n",
    "https://colab.research.google.com/drive/1k-bd38YCPCCnUxT0Pklt6f1Ef6uIvoSR?usp=sharing"
   ]
  }
 ],
 "metadata": {
  "kernelspec": {
   "display_name": "Python 3 (ipykernel)",
   "language": "python",
   "name": "python3"
  },
  "language_info": {
   "codemirror_mode": {
    "name": "ipython",
    "version": 3
   },
   "file_extension": ".py",
   "mimetype": "text/x-python",
   "name": "python",
   "nbconvert_exporter": "python",
   "pygments_lexer": "ipython3",
   "version": "3.12.4"
  }
 },
 "nbformat": 4,
 "nbformat_minor": 5
}

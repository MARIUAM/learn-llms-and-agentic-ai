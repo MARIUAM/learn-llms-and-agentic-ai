{
 "cells": [
  {
   "cell_type": "markdown",
   "id": "101814ca-9694-457f-91e9-423f4d933a2f",
   "metadata": {},
   "source": [
    "Hugging Face Tokenizer Examples\n",
    "\n",
    "https://colab.research.google.com/drive/1bJwLmNzBjNKCce9_p2atzYclIwRUizbB"
   ]
  }
 ],
 "metadata": {
  "kernelspec": {
   "display_name": "Python 3 (ipykernel)",
   "language": "python",
   "name": "python3"
  },
  "language_info": {
   "codemirror_mode": {
    "name": "ipython",
    "version": 3
   },
   "file_extension": ".py",
   "mimetype": "text/x-python",
   "name": "python",
   "nbconvert_exporter": "python",
   "pygments_lexer": "ipython3",
   "version": "3.12.4"
  }
 },
 "nbformat": 4,
 "nbformat_minor": 5
}

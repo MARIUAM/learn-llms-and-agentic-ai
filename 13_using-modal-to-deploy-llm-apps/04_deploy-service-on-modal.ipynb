{
 "cells": [
  {
   "cell_type": "code",
   "execution_count": 16,
   "id": "2f6aed0e",
   "metadata": {},
   "outputs": [],
   "source": [
    "import modal"
   ]
  },
  {
   "cell_type": "code",
   "execution_count": null,
   "id": "90ec7014-0304-4b04-881b-c9622ef1400c",
   "metadata": {},
   "outputs": [],
   "source": [
    "# Uncomment next line if running the first time\n",
    "# !modal setup"
   ]
  },
  {
   "cell_type": "code",
   "execution_count": 17,
   "id": "3a924b7d-f74b-4088-b2b7-726803b60e06",
   "metadata": {},
   "outputs": [
    {
     "name": "stdout",
     "output_type": "stream",
     "text": [
      "┌─ Modal Deprecation Warning (2025-02-06) ────────────────────────────────────┐\n",
      "│ Using Python module paths will require using the -m flag in a future        │\n",
      "│ version of Modal.                                                           │\n",
      "│ Use `modal deploy -m pricer_service` instead.                               │\n",
      "└─────────────────────────────────────────────────────────────────────────────┘\n",
      "- Creating objects...\n",
      "| Creating objects...\n",
      "- Creating objects...\n",
      "└── - Creating mount \n",
      "    D:\\developmentData\\AI\\programs\\learn-llms-and-agentic-ai\\13_using-modal-to-\n",
      "    deploy-llm-apps\\pricer_service.py: Uploaded 0/1 files\n",
      "| Creating objects...\n",
      "└── | Creating mount \n",
      "    D:\\developmentData\\AI\\programs\\learn-llms-and-agentic-ai\\13_using-modal-to-\n",
      "    deploy-llm-apps\\pricer_service.py: Uploaded 0/1 files\n",
      "- Creating objects...\n",
      "└── / Creating mount \n",
      "    D:\\developmentData\\AI\\programs\\learn-llms-and-agentic-ai\\13_using-modal-to-\n",
      "    deploy-llm-apps\\pricer_service.py: Uploaded 0/1 files\n",
      "| Creating objects...\n",
      "└── | Creating mount \n",
      "    D:\\developmentData\\AI\\programs\\learn-llms-and-agentic-ai\\13_using-modal-to-\n",
      "    deploy-llm-apps\\pricer_service.py: Uploaded 0/1 files\n",
      "- Creating objects...\n",
      "└── - Creating mount \n",
      "    D:\\developmentData\\AI\\programs\\learn-llms-and-agentic-ai\\13_using-modal-to-\n",
      "    deploy-llm-apps\\pricer_service.py: Uploaded 0/1 files\n",
      "| Creating objects...\n",
      "└── | Creating mount \n",
      "    D:\\developmentData\\AI\\programs\\learn-llms-and-agentic-ai\\13_using-modal-to-\n",
      "    deploy-llm-apps\\pricer_service.py: Uploaded 0/1 files\n",
      "- Creating objects...\n",
      "└── - Creating mount \n",
      "    D:\\developmentData\\AI\\programs\\learn-llms-and-agentic-ai\\13_using-modal-to-\n",
      "    deploy-llm-apps\\pricer_service.py: Finalizing index of 1 files\n",
      "| Creating objects...\n",
      "└── | Creating mount \n",
      "    D:\\developmentData\\AI\\programs\\learn-llms-and-agentic-ai\\13_using-modal-to-\n",
      "    deploy-llm-apps\\pricer_service.py: Finalizing index of 1 files\n",
      "- Creating objects...\n",
      "├── 🔨 Created mount \n",
      "│   D:\\developmentData\\AI\\programs\\learn-llms-and-agentic-ai\\13_using-modal-to-\n",
      "│   deploy-llm-apps\\pricer_service.py\n",
      "└── - Creating function price...\n",
      "| Creating objects...\n",
      "├── 🔨 Created mount \n",
      "│   D:\\developmentData\\AI\\programs\\learn-llms-and-agentic-ai\\13_using-modal-to-\n",
      "│   deploy-llm-apps\\pricer_service.py\n",
      "└── | Creating function price...\n",
      "/ Creating objects...\n",
      "├── 🔨 Created mount \n",
      "│   D:\\developmentData\\AI\\programs\\learn-llms-and-agentic-ai\\13_using-modal-to-\n",
      "│   deploy-llm-apps\\pricer_service.py\n",
      "└── 🔨 Created function price.\n",
      "\n",
      "✓ Created objects.\n",
      "├── 🔨 Created mount \n",
      "│   D:\\developmentData\\AI\\programs\\learn-llms-and-agentic-ai\\13_using-modal-to-\n",
      "│   deploy-llm-apps\\pricer_service.py\n",
      "└── 🔨 Created function price.\n",
      "✓ App deployed in 4.635s! 🎉\n",
      "\n",
      "View Deployment: \n",
      "https://modal.com/apps/zeeshanshanif/main/deployed/product-pricer-service\n"
     ]
    }
   ],
   "source": [
    "!modal deploy pricer_service"
   ]
  },
  {
   "cell_type": "code",
   "execution_count": 18,
   "id": "6ff8ab7b-1a13-478d-8ff6-2b3cb52466ca",
   "metadata": {},
   "outputs": [],
   "source": [
    "# pricer = modal.Function.lookup(\"product-pricer-service\", \"price\") # lookup is deprecated\n",
    "\n",
    "pricer = modal.Function.from_name(\"product-pricer-service\", \"price\")"
   ]
  },
  {
   "cell_type": "code",
   "execution_count": 21,
   "id": "bcf717c5-ad39-44b9-b61d-834f94265201",
   "metadata": {},
   "outputs": [
    {
     "data": {
      "text/plain": [
       "199.0"
      ]
     },
     "execution_count": 21,
     "metadata": {},
     "output_type": "execute_result"
    }
   ],
   "source": [
    "pricer.remote(\"Quadcast HyperX condenser mic, connects via usb-c to your computer for crystal clear audio\")"
   ]
  },
  {
   "cell_type": "code",
   "execution_count": 15,
   "id": "9d27496b-77c4-4fb2-b76e-1d4ad79d3e87",
   "metadata": {},
   "outputs": [
    {
     "data": {
      "text/plain": [
       "0"
      ]
     },
     "execution_count": 15,
     "metadata": {},
     "output_type": "execute_result"
    }
   ],
   "source": [
    "pricer.remote(\"OEM AC Compressor w/A/C Repair Kit For Ford F150 F-150 V8 & Lincoln Mark LT 2007 2008 - BuyAutoParts NEW\\nAs one of the world's largest automotive parts suppliers, our parts are trusted every day by mechanics and vehicle owners worldwide. This A/C Compressor and Components Kit is manufactured and tested to the strictest OE standards for unparalleled performance. Built for trouble-free ownership and 100% visually inspected and quality tested, this A/C Compressor and Components Kit is backed by our 100% satisfaction guarantee. Guaranteed Exact Fit for easy installation 100% BRAND NEW, premium ISO/TS 16949 quality - tested to meet or exceed OEM specifications Engineered for superior durability, backed by industry-leading unlimited-mileage warranty Included in this K\")"
   ]
  },
  {
   "cell_type": "code",
   "execution_count": 22,
   "id": "53e4748a-30af-43d1-98aa-a0d3c6dde6cb",
   "metadata": {},
   "outputs": [
    {
     "data": {
      "text/plain": [
       "399.0"
      ]
     },
     "execution_count": 22,
     "metadata": {},
     "output_type": "execute_result"
    }
   ],
   "source": [
    "pricer.remote(\"iPhone SE 2nd Edition\")"
   ]
  }
 ],
 "metadata": {
  "kernelspec": {
   "display_name": "Python 3 (ipykernel)",
   "language": "python",
   "name": "python3"
  },
  "language_info": {
   "codemirror_mode": {
    "name": "ipython",
    "version": 3
   },
   "file_extension": ".py",
   "mimetype": "text/x-python",
   "name": "python",
   "nbconvert_exporter": "python",
   "pygments_lexer": "ipython3",
   "version": "3.12.4"
  }
 },
 "nbformat": 4,
 "nbformat_minor": 5
}

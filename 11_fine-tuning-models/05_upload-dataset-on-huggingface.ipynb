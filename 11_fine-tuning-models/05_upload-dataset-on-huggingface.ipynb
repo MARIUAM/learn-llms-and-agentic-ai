{
 "cells": [
  {
   "cell_type": "code",
   "execution_count": null,
   "id": "de43b364-7200-4b06-afaa-761f88f87ba4",
   "metadata": {},
   "outputs": [],
   "source": [
    "import os\n",
    "from dotenv import load_dotenv\n",
    "from huggingface_hub import login\n",
    "from datasets import load_dataset, Dataset, DatasetDict\n",
    "import numpy as np\n",
    "import pickle"
   ]
  },
  {
   "cell_type": "code",
   "execution_count": null,
   "id": "b9b08097-253d-46de-9705-829f2b87c4a2",
   "metadata": {},
   "outputs": [],
   "source": [
    "# environment\n",
    "\n",
    "load_dotenv()\n",
    "hf_token = os.getenv('HF_TOKEN', 'your-key-if-not-using-env')\n",
    "print(f\"hf_token: {hf_token}\")"
   ]
  },
  {
   "cell_type": "code",
   "execution_count": null,
   "id": "db6f1128",
   "metadata": {},
   "outputs": [],
   "source": [
    "login(hf_token, add_to_git_credential=True)"
   ]
  },
  {
   "cell_type": "code",
   "execution_count": null,
   "id": "b064e9a2-2eff-4bfe-987a-17902ddd5afc",
   "metadata": {},
   "outputs": [],
   "source": [
    "with open('train.pkl', 'rb') as file:\n",
    "    train = pickle.load(file)\n",
    "\n",
    "with open('test.pkl', 'rb') as file:\n",
    "    test = pickle.load(file)"
   ]
  },
  {
   "cell_type": "code",
   "execution_count": null,
   "id": "f79ea709-9cc0-4247-8c23-dbe8cda8abbd",
   "metadata": {},
   "outputs": [],
   "source": [
    "train_prompts = [item.prompt for item in train]\n",
    "train_prices = [item.price for item in train]\n",
    "test_prompts = [item.test_prompt() for item in test]\n",
    "test_prices = [item.price for item in test]"
   ]
  },
  {
   "cell_type": "code",
   "execution_count": null,
   "id": "c01f03e3",
   "metadata": {},
   "outputs": [],
   "source": [
    "# Create a Dataset from the lists\n",
    "\n",
    "train_dataset = Dataset.from_dict({\"text\": train_prompts, \"price\": train_prices})\n",
    "test_dataset = Dataset.from_dict({\"text\": test_prompts, \"price\": test_prices})\n",
    "dataset = DatasetDict({\n",
    "    \"train\": train_dataset,\n",
    "    \"test\": test_dataset\n",
    "})"
   ]
  },
  {
   "cell_type": "code",
   "execution_count": null,
   "id": "cd6cfc24",
   "metadata": {},
   "outputs": [],
   "source": [
    "HF_USER = \"zeeshanhanif\"\n",
    "DATASET_NAME = f\"{HF_USER}/product-pricer-data-full\"\n",
    "dataset.push_to_hub(DATASET_NAME, private=True)"
   ]
  }
 ],
 "metadata": {
  "kernelspec": {
   "display_name": ".venv",
   "language": "python",
   "name": "python3"
  },
  "language_info": {
   "codemirror_mode": {
    "name": "ipython",
    "version": 3
   },
   "file_extension": ".py",
   "mimetype": "text/x-python",
   "name": "python",
   "nbconvert_exporter": "python",
   "pygments_lexer": "ipython3",
   "version": "3.12.4"
  }
 },
 "nbformat": 4,
 "nbformat_minor": 5
}
